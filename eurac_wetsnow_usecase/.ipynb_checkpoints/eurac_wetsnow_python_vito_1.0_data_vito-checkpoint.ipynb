{
 "cells": [
  {
   "cell_type": "code",
   "execution_count": 1,
   "metadata": {},
   "outputs": [
    {
     "name": "stdout",
     "output_type": "stream",
     "text": [
      "0.4.5a1\n"
     ]
    }
   ],
   "source": [
    "VITO_DRIVER_URL = \"https://openeo.vito.be/openeo/1.0/\"\n",
    "import openeo\n",
    "print(openeo.__version__)\n",
    "# initiate a session to the vito backend:\n",
    "from openeo.metadata import CollectionMetadata, TemporalDimension, BandDimension, SpatialDimension\n",
    "connection = openeo.connect(VITO_DRIVER_URL).authenticate_basic(username=\"xxx\", password=\"xxx\")"
   ]
  },
  {
   "cell_type": "code",
   "execution_count": 15,
   "metadata": {},
   "outputs": [
    {
     "name": "stdout",
     "output_type": "stream",
     "text": [
      "{'cube:dimensions': {'bands': {'type': 'bands', 'values': ['VH', 'VV']}, 't': {'extent': ['2015-07-06T00:00:00Z', None], 'type': 'temporal'}, 'x': {'axis': 'x', 'extent': [-180, 180], 'type': 'spatial'}, 'y': {'axis': 'y', 'extent': [-56, 83], 'type': 'spatial'}}, 'description': 'Sentinel 1 GRD Gamma0 combined descending and ascending orbits. Provided by Terrascope.', 'extent': {'spatial': {'bbox': [[-180, -56, 180, 83]]}, 'temporal': {'interval': [['2015-07-06T00:00:00Z', None]]}}, 'id': 'TERRASCOPE_S1_GAMMA0_V1', 'license': 'free', 'links': [{'href': 'https://terrascope.be/en/products', 'rel': 'alternate', 'title': 'Product web page.'}], 'name': 'TERRASCOPE_S1_GAMMA0_V1', 'product_id': 'TERRASCOPE_S1_GAMMA0_V1', 'providers': [{'name': 'Terrascope/VITO'}], 'stac_version': '0.9.0', 'summaries': {'eo:bands': [{'name': 'VH', 'type': 'float', 'unit': '1'}, {'name': 'VV', 'type': 'float', 'unit': '1'}]}, 'title': 'Sentinel 1 GRD Gamma0 product, VH and VV.'}\n",
      "['array_apply', 'arccos', 'arcosh', 'power', 'last', 'subtract', 'not', 'cosh', 'artanh', 'is_valid', 'first', 'median', 'eq', 'absolute', 'arctan2', 'array_labels', 'divide', 'is_nan', 'all', 'round', 'min', 'any', 'gte', 'cos', 'between', 'count', 'xor', 'extrema', 'and', 'variance', 'or', 'sum', 'sin', 'sinh', 'product', 'exp', 'neq', 'sd', 'sort', 'normalized_difference', 'int', 'order', 'array_find', 'if', 'sqrt', 'add', 'e', 'arsinh', 'mean', 'array_filter', 'mod', 'multiply', 'lte', 'pi', 'ceil', 'tan', 'tanh', 'arctan', 'floor', 'array_element', 'clip', 'sgn', 'quantiles', 'arcsin', 'rearrange', 'array_contains', 'is_nodata', 'gt', 'ln', 'log', 'max', 'lt', 'load_collection', 'load_disk_data', 'apply_neighborhood', 'apply_dimension', 'save_result', 'apply', 'reduce_dimension', 'add_dimension', 'aggregate_temporal', 'aggregate_spatial', 'mask', 'mask_polygon', 'filter_temporal', 'filter_bbox', 'filter_bands', 'apply_kernel', 'ndvi', 'resample_spatial', 'resample_cube_spatial', 'merge_cubes', 'run_udf', 'linear_scale_range', 'histogram', 'read_vector', 'raster_to_vector', 'sleep']\n"
     ]
    }
   ],
   "source": [
    "#print(connection.list_collections())\n",
    "print(connection.describe_collection(\"TERRASCOPE_S1_GAMMA0_V1\"))\n",
    "print([process[\"id\"] for process in connection.list_processes()])"
   ]
  },
  {
   "cell_type": "code",
   "execution_count": 17,
   "metadata": {},
   "outputs": [],
   "source": [
    "# load data cube\n",
    "# spatial extent is probably not covered\n",
    "# calais (avlb in s1 on vito)\n",
    "# \"south\": 50.956296, \"west\": 1.820205, \"north\": 51.10004001076003, \"east\": 1.9788201123046876\n",
    "# weisskugel eurac us data\n",
    "# \"west\": 11.257896423339844, \"south\": 46.406617041056165, \"east\": 11.416511535644531, \"north\": 46.550361051816196\n",
    "s1a = connection.load_collection(\n",
    "  \"TERRASCOPE_S1_GAMMA0_V1\",\n",
    "  spatial_extent={\"south\": 50.956296, \"west\": 1.820205, \"north\": 51.10004001076003, \"east\": 1.9788201123046876},\n",
    "  temporal_extent=[\"2015-11-06\",\"2015-12-12\"],\n",
    "  bands=[\"VV\", \"VH\"]\n",
    ")\n",
    "\n",
    "# filter normalize vv timeseries\n",
    "vv = s1a.filter_bands([\"VV\"])\n",
    "vv_ref = vv.reduce_dimension(dimension=\"t\", reducer=\"max\")\n",
    "vv_norm = vv.merge_cubes(vv_ref, overlap_resolver=\"subtract\")\n",
    "\n"
   ]
  },
  {
   "cell_type": "code",
   "execution_count": 18,
   "metadata": {},
   "outputs": [
    {
     "name": "stdout",
     "output_type": "stream",
     "text": [
      "{\n",
      "  \"loadcollection1\": {\n",
      "    \"process_id\": \"load_collection\",\n",
      "    \"arguments\": {\n",
      "      \"bands\": [\n",
      "        \"VV\",\n",
      "        \"VH\"\n",
      "      ],\n",
      "      \"id\": \"TERRASCOPE_S1_GAMMA0_V1\",\n",
      "      \"spatial_extent\": {\n",
      "        \"south\": 50.956296,\n",
      "        \"west\": 1.820205,\n",
      "        \"north\": 51.10004001076003,\n",
      "        \"east\": 1.9788201123046876\n",
      "      },\n",
      "      \"temporal_extent\": [\n",
      "        \"2015-11-06\",\n",
      "        \"2015-12-12\"\n",
      "      ]\n",
      "    }\n",
      "  },\n",
      "  \"filterbands1\": {\n",
      "    \"process_id\": \"filter_bands\",\n",
      "    \"arguments\": {\n",
      "      \"bands\": [\n",
      "        \"VV\"\n",
      "      ],\n",
      "      \"data\": {\n",
      "        \"from_node\": \"loadcollection1\"\n",
      "      }\n",
      "    }\n",
      "  },\n",
      "  \"reducedimension1\": {\n",
      "    \"process_id\": \"reduce_dimension\",\n",
      "    \"arguments\": {\n",
      "      \"data\": {\n",
      "        \"from_node\": \"filterbands1\"\n",
      "      },\n",
      "      \"dimension\": \"t\",\n",
      "      \"reducer\": {\n",
      "        \"process_graph\": {\n",
      "          \"max1\": {\n",
      "            \"process_id\": \"max\",\n",
      "            \"arguments\": {\n",
      "              \"data\": {\n",
      "                \"from_parameter\": \"data\"\n",
      "              }\n",
      "            },\n",
      "            \"result\": true\n",
      "          }\n",
      "        }\n",
      "      }\n",
      "    }\n",
      "  },\n",
      "  \"mergecubes1\": {\n",
      "    \"process_id\": \"merge_cubes\",\n",
      "    \"arguments\": {\n",
      "      \"cube1\": {\n",
      "        \"from_node\": \"filterbands1\"\n",
      "      },\n",
      "      \"cube2\": {\n",
      "        \"from_node\": \"reducedimension1\"\n",
      "      },\n",
      "      \"overlap_resolver\": {\n",
      "        \"process_graph\": {\n",
      "          \"subtract1\": {\n",
      "            \"process_id\": \"subtract\",\n",
      "            \"arguments\": {\n",
      "              \"x\": {\n",
      "                \"from_parameter\": \"x\"\n",
      "              },\n",
      "              \"y\": {\n",
      "                \"from_parameter\": \"y\"\n",
      "              }\n",
      "            },\n",
      "            \"result\": true\n",
      "          }\n",
      "        }\n",
      "      }\n",
      "    },\n",
      "    \"result\": true\n",
      "  }\n",
      "}\n"
     ]
    }
   ],
   "source": [
    "import json\n",
    "print(json.dumps(vv_norm.graph,indent=2))"
   ]
  },
  {
   "cell_type": "code",
   "execution_count": null,
   "metadata": {},
   "outputs": [],
   "source": []
  }
 ],
 "metadata": {
  "kernelspec": {
   "display_name": "Python [conda env:classification] *",
   "language": "python",
   "name": "conda-env-classification-py"
  },
  "language_info": {
   "codemirror_mode": {
    "name": "ipython",
    "version": 3
   },
   "file_extension": ".py",
   "mimetype": "text/x-python",
   "name": "python",
   "nbconvert_exporter": "python",
   "pygments_lexer": "ipython3",
   "version": "3.7.3"
  }
 },
 "nbformat": 4,
 "nbformat_minor": 2
}
