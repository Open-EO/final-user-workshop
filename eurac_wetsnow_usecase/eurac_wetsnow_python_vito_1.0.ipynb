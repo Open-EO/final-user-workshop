{
 "cells": [
  {
   "cell_type": "code",
   "execution_count": 1,
   "metadata": {},
   "outputs": [
    {
     "name": "stdout",
     "output_type": "stream",
     "text": [
      "3.7.3\n"
     ]
    }
   ],
   "source": [
    "# use case on vito backend\n",
    "from platform import python_version\n",
    "print(python_version())\n",
    "\n"
   ]
  },
  {
   "cell_type": "code",
   "execution_count": 2,
   "metadata": {},
   "outputs": [
    {
     "name": "stdout",
     "output_type": "stream",
     "text": [
      "0.4.5a1\n"
     ]
    }
   ],
   "source": [
    "# connect to vito backend\n",
    "VITO_DRIVER_URL = \"https://openeo.vito.be/openeo/1.0/\"\n",
    "import openeo\n",
    "print(openeo.__version__)\n",
    "# initiate a session to the vito backend:\n",
    "from openeo.metadata import CollectionMetadata, TemporalDimension, BandDimension, SpatialDimension\n",
    "session = openeo.connect(VITO_DRIVER_URL).authenticate_basic(username=\"peter\", password=\"peter123\")"
   ]
  },
  {
   "cell_type": "code",
   "execution_count": 3,
   "metadata": {},
   "outputs": [
    {
     "name": "stdout",
     "output_type": "stream",
     "text": [
      "{\n",
      "  \"loaddiskdata1\": {\n",
      "    \"process_id\": \"load_disk_data\",\n",
      "    \"arguments\": {\n",
      "      \"format\": \"GTiff\",\n",
      "      \"glob_pattern\": \"/data/users/Public/driesj/openeo/eurac/S1A_IW_GRDH_*_015_VH_VV_eurac.tif\",\n",
      "      \"options\": {\n",
      "        \"date_regex\": \".*_(\\\\d{4})(\\\\d{2})(\\\\d{2})T.*\"\n",
      "      }\n",
      "    },\n",
      "    \"result\": true\n",
      "  }\n",
      "}\n"
     ]
    },
    {
     "name": "stderr",
     "output_type": "stream",
     "text": [
      "/opt/conda/envs/classification/lib/python3.7/site-packages/openeo-0.4.5a1-py3.7.egg/openeo/metadata.py:177: UserWarning: No cube:dimensions metadata\n"
     ]
    }
   ],
   "source": [
    "# upload s1a\n",
    "backscatter = session.load_disk_collection('GTiff', str('/data/users/Public/driesj/openeo/eurac/S1A_IW_GRDH_*_015_VH_VV_eurac.tif'), options={'date_regex': '.*_(\\d{4})(\\d{2})(\\d{2})T.*'})\n",
    "import json\n",
    "print(json.dumps(backscatter.graph,indent=2))\n",
    "#we have to provide our own collection metadata, as it is loaded ad hoc by the backend\n",
    "backscatter.metadata = CollectionMetadata(metadata={},dimensions=[TemporalDimension(name='t',extent=(\"20151106\",\"20151212\"))]) #, BandDimension(name='bands', )])\n",
    "\n",
    "# how to provide metadata for the band dimension so that its accepted by filter bands?\n",
    "#backscatter.metatata = CollectionMetadata(metadata={},dimensions=[BandDimension(name='bands',bands=['VH','VV'])])\n",
    "#print(backscatter.metadata)\n",
    "#backscatter.download(\"eurac_backscatter.tiff\",format=\"GTiff\")\n"
   ]
  },
  {
   "cell_type": "code",
   "execution_count": 7,
   "metadata": {},
   "outputs": [
    {
     "name": "stdout",
     "output_type": "stream",
     "text": [
      "{\n",
      "  \"loaddiskdata1\": {\n",
      "    \"process_id\": \"load_disk_data\",\n",
      "    \"arguments\": {\n",
      "      \"format\": \"GTiff\",\n",
      "      \"glob_pattern\": \"/data/users/Public/driesj/openeo/eurac/S1A_IW_GRDH_*_015_VH_VV_eurac.tif\",\n",
      "      \"options\": {\n",
      "        \"date_regex\": \".*_(\\\\d{4})(\\\\d{2})(\\\\d{2})T.*\"\n",
      "      }\n",
      "    }\n",
      "  },\n",
      "  \"reducedimension1\": {\n",
      "    \"process_id\": \"reduce_dimension\",\n",
      "    \"arguments\": {\n",
      "      \"data\": {\n",
      "        \"from_node\": \"loaddiskdata1\"\n",
      "      },\n",
      "      \"dimension\": \"t\",\n",
      "      \"reducer\": {\n",
      "        \"process_graph\": {\n",
      "          \"max1\": {\n",
      "            \"process_id\": \"max\",\n",
      "            \"arguments\": {\n",
      "              \"data\": {\n",
      "                \"from_parameter\": \"data\"\n",
      "              }\n",
      "            },\n",
      "            \"result\": true\n",
      "          }\n",
      "        }\n",
      "      }\n",
      "    }\n",
      "  },\n",
      "  \"mergecubes1\": {\n",
      "    \"process_id\": \"merge_cubes\",\n",
      "    \"arguments\": {\n",
      "      \"cube1\": {\n",
      "        \"from_node\": \"loaddiskdata1\"\n",
      "      },\n",
      "      \"cube2\": {\n",
      "        \"from_node\": \"reducedimension1\"\n",
      "      },\n",
      "      \"overlap_resolver\": {\n",
      "        \"process_graph\": {\n",
      "          \"subtract1\": {\n",
      "            \"process_id\": \"subtract\",\n",
      "            \"arguments\": {\n",
      "              \"x\": {\n",
      "                \"from_parameter\": \"x\"\n",
      "              },\n",
      "              \"y\": {\n",
      "                \"from_parameter\": \"y\"\n",
      "              }\n",
      "            },\n",
      "            \"result\": true\n",
      "          }\n",
      "        }\n",
      "      }\n",
      "    },\n",
      "    \"result\": true\n",
      "  }\n",
      "}\n"
     ]
    }
   ],
   "source": [
    "# module 1 ----\n",
    "# FILTER BANDS DOESN'T WORK ON DISK CONNECTION SO FAR VIA BANDNAMES VV VH\n",
    "# normalize vh\n",
    "#vh = backscatter.filter_bands([\"VH\"]) # this doesn't work... band dim is missing\n",
    "#tst = backscatter.filter_temporal(\"2015-11-06\",\"2015-11-07\") # this works... time dim has been added correctly\n",
    "#vh_ref = vh.max_time() # more generically reduce, callback max\n",
    "#vh_norm = vh.merge(vh_ref) # mergecubes(vh, vh_ref, overlap_resolver = \"-\") # 1:n case\n",
    "#session.reduce\n",
    "#tst = backscatter.reduce_dimension(\"max\", dimension=\"t\")\n",
    "\n",
    "# normalize vv\n",
    "\n",
    "# normalize both bands at once\n",
    "backscatter_ref = backscatter.max_time()\n",
    "backscatter_norm = backscatter.merge(backscatter_ref,overlap_resolver=\"subtract\")\n",
    "#print(json.dumps(backscatter_norm.graph,indent=2))\n",
    "#backscatter_norm.download(\"norm.tif\", format=\"GTiff\") # gtiff cannot depict 3d data cube -> bands are there time is not there\n",
    "#backscatter_norm.download(\"norm.ncdf\", format=\"NETCDF\") # produces error\n",
    "#job = backscatter.send_job()\n",
    "#res = job.start_and_wait().download_results()\n",
    "\n",
    "# check if time dimension was there (if the values change compared to norm.tif there was one)\n",
    "backscatter_norm_red = backscatter_norm.max_time()\n",
    "#reducer=\n",
    "#backscatter_norm_red = backscatter_norm.reduce_dimension(dimension=\"temporal\", reducer=reducer)\n",
    "#reducer = openeo.internal.graph_building.PGNode(\"subtract\", arguments={\"x\": {\"from_node\": vh}, \"y\": {\"from_node\": vv}})\n",
    "#datacube = mean.reduce_dimension(dimension=\"bands\", reducer=reducer)\n",
    "\n",
    "backscatter_norm_red.download(\"norm2.tif\", format=\"GTiff\")\n",
    "print(json.dumps(backscatter_norm_red.graph,indent=2))\n"
   ]
  },
  {
   "cell_type": "code",
   "execution_count": 56,
   "metadata": {},
   "outputs": [
    {
     "name": "stdout",
     "output_type": "stream",
     "text": [
      "['array_apply', 'arccos', 'arcosh', 'power', 'last', 'subtract', 'not', 'cosh', 'artanh', 'is_valid', 'first', 'median', 'eq', 'absolute', 'arctan2', 'array_labels', 'divide', 'is_nan', 'all', 'round', 'min', 'any', 'gte', 'cos', 'between', 'count', 'xor', 'extrema', 'and', 'variance', 'or', 'sum', 'sin', 'sinh', 'product', 'exp', 'neq', 'sd', 'sort', 'normalized_difference', 'int', 'order', 'array_find', 'if', 'sqrt', 'add', 'e', 'arsinh', 'mean', 'array_filter', 'mod', 'multiply', 'lte', 'pi', 'ceil', 'tan', 'tanh', 'arctan', 'floor', 'array_element', 'clip', 'sgn', 'quantiles', 'arcsin', 'rearrange', 'array_contains', 'is_nodata', 'gt', 'ln', 'log', 'max', 'lt', 'load_collection', 'load_disk_data', 'apply_neighborhood', 'apply_dimension', 'save_result', 'apply', 'reduce_dimension', 'add_dimension', 'aggregate_temporal', 'aggregate_spatial', 'mask', 'mask_polygon', 'filter_temporal', 'filter_bbox', 'filter_bands', 'apply_kernel', 'ndvi', 'resample_spatial', 'resample_cube_spatial', 'merge_cubes', 'run_udf', 'linear_scale_range', 'histogram', 'read_vector', 'raster_to_vector', 'sleep']\n"
     ]
    }
   ],
   "source": [
    "#print(session.list_processes())\n",
    "print([process[\"id\"] for process in session.list_processes()])\n"
   ]
  },
  {
   "cell_type": "code",
   "execution_count": null,
   "metadata": {},
   "outputs": [],
   "source": [
    "# upload lia \n",
    "lia = session.load_disk_collection('GTiff', str('/data/users/Public/driesj/openeo/eurac/S1A_IW_GRDH_20141205T171502_015_LIA_eurac.tif'), options={'date_regex': '.*_(\\d{4})(\\d{2})(\\d{2})T.*'})\n",
    "#we have to provide our own collection metadata, as it is loaded ad hoc by the backend\n",
    "lia.metadata = CollectionMetadata(metadata={},dimensions=[TemporalDimension(name='t',extent=(\"20151106\",\"20151212\"))])\n",
    "#lia.download(\"eurac_lia.tiff\",format=\"GTiff\")\n"
   ]
  },
  {
   "cell_type": "code",
   "execution_count": null,
   "metadata": {},
   "outputs": [],
   "source": []
  },
  {
   "cell_type": "code",
   "execution_count": null,
   "metadata": {},
   "outputs": [],
   "source": [
    "# upload modis snow\n",
    "modis = session.load_disk_collection('GTiff', str('/data/users/Public/driesj/openeo/eurac/ERUAC_MODIS_SNOW_*_120000.tif'), options={'date_regex': '.*_(\\d{4})(\\d{2})(\\d{2})_.*'})\n",
    "#we have to provide our own collection metadata, as it is loaded ad hoc by the backend\n",
    "modis.metadata = CollectionMetadata(metadata={},dimensions=[TemporalDimension(name='t',extent=(\"20151106\",\"20151212\"))])\n",
    "#modis.download(\"eurac_snow.tiff\",format=\"GTiff\")"
   ]
  },
  {
   "cell_type": "code",
   "execution_count": null,
   "metadata": {},
   "outputs": [],
   "source": [
    "   "
   ]
  }
 ],
 "metadata": {
  "kernelspec": {
   "display_name": "Python [conda env:classification] *",
   "language": "python",
   "name": "conda-env-classification-py"
  },
  "language_info": {
   "codemirror_mode": {
    "name": "ipython",
    "version": 3
   },
   "file_extension": ".py",
   "mimetype": "text/x-python",
   "name": "python",
   "nbconvert_exporter": "python",
   "pygments_lexer": "ipython3",
   "version": "3.7.3"
  }
 },
 "nbformat": 4,
 "nbformat_minor": 2
}
