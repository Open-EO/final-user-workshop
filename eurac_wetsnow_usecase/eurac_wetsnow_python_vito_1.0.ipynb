{
 "cells": [
  {
   "cell_type": "code",
   "execution_count": 59,
   "metadata": {},
   "outputs": [
    {
     "name": "stdout",
     "output_type": "stream",
     "text": [
      "3.7.3\n"
     ]
    }
   ],
   "source": [
    "# use case on vito backend\n",
    "from platform import python_version\n",
    "print(python_version())\n",
    "\n"
   ]
  },
  {
   "cell_type": "code",
   "execution_count": 60,
   "metadata": {},
   "outputs": [
    {
     "name": "stdout",
     "output_type": "stream",
     "text": [
      "0.4.5a1\n"
     ]
    },
    {
     "ename": "OpenEoApiError",
     "evalue": "[403] CredentialsInvalid: Credentials are not correct.",
     "output_type": "error",
     "traceback": [
      "\u001b[0;31m---------------------------------------------------------------------------\u001b[0m",
      "\u001b[0;31mOpenEoApiError\u001b[0m                            Traceback (most recent call last)",
      "\u001b[0;32m<ipython-input-60-c261b734bdd7>\u001b[0m in \u001b[0;36m<module>\u001b[0;34m\u001b[0m\n\u001b[1;32m      5\u001b[0m \u001b[0;31m# initiate a session to the vito backend:\u001b[0m\u001b[0;34m\u001b[0m\u001b[0;34m\u001b[0m\u001b[0;34m\u001b[0m\u001b[0m\n\u001b[1;32m      6\u001b[0m \u001b[0;32mfrom\u001b[0m \u001b[0mopeneo\u001b[0m\u001b[0;34m.\u001b[0m\u001b[0mmetadata\u001b[0m \u001b[0;32mimport\u001b[0m \u001b[0mCollectionMetadata\u001b[0m\u001b[0;34m,\u001b[0m \u001b[0mTemporalDimension\u001b[0m\u001b[0;34m,\u001b[0m \u001b[0mBandDimension\u001b[0m\u001b[0;34m,\u001b[0m \u001b[0mSpatialDimension\u001b[0m\u001b[0;34m\u001b[0m\u001b[0;34m\u001b[0m\u001b[0m\n\u001b[0;32m----> 7\u001b[0;31m \u001b[0msession\u001b[0m \u001b[0;34m=\u001b[0m \u001b[0mopeneo\u001b[0m\u001b[0;34m.\u001b[0m\u001b[0mconnect\u001b[0m\u001b[0;34m(\u001b[0m\u001b[0mVITO_DRIVER_URL\u001b[0m\u001b[0;34m)\u001b[0m\u001b[0;34m.\u001b[0m\u001b[0mauthenticate_basic\u001b[0m\u001b[0;34m(\u001b[0m\u001b[0musername\u001b[0m\u001b[0;34m=\u001b[0m\u001b[0;34m\"xxx\"\u001b[0m\u001b[0;34m,\u001b[0m \u001b[0mpassword\u001b[0m\u001b[0;34m=\u001b[0m\u001b[0;34m\"xxx\"\u001b[0m\u001b[0;34m)\u001b[0m\u001b[0;34m\u001b[0m\u001b[0;34m\u001b[0m\u001b[0m\n\u001b[0m",
      "\u001b[0;32m/opt/conda/envs/classification/lib/python3.7/site-packages/openeo-0.4.5a1-py3.7.egg/openeo/rest/connection.py\u001b[0m in \u001b[0;36mauthenticate_basic\u001b[0;34m(self, username, password)\u001b[0m\n\u001b[1;32m    268\u001b[0m             \u001b[0;34m'/credentials/basic'\u001b[0m\u001b[0;34m,\u001b[0m\u001b[0;34m\u001b[0m\u001b[0;34m\u001b[0m\u001b[0m\n\u001b[1;32m    269\u001b[0m             \u001b[0;31m# /credentials/basic is the only endpoint that expects a Basic HTTP auth\u001b[0m\u001b[0;34m\u001b[0m\u001b[0;34m\u001b[0m\u001b[0;34m\u001b[0m\u001b[0m\n\u001b[0;32m--> 270\u001b[0;31m             \u001b[0mauth\u001b[0m\u001b[0;34m=\u001b[0m\u001b[0mHTTPBasicAuth\u001b[0m\u001b[0;34m(\u001b[0m\u001b[0musername\u001b[0m\u001b[0;34m,\u001b[0m \u001b[0mpassword\u001b[0m\u001b[0;34m)\u001b[0m\u001b[0;34m\u001b[0m\u001b[0;34m\u001b[0m\u001b[0m\n\u001b[0m\u001b[1;32m    271\u001b[0m         ).json()\n\u001b[1;32m    272\u001b[0m         \u001b[0;31m# Switch to bearer based authentication in further requests.\u001b[0m\u001b[0;34m\u001b[0m\u001b[0;34m\u001b[0m\u001b[0;34m\u001b[0m\u001b[0m\n",
      "\u001b[0;32m/opt/conda/envs/classification/lib/python3.7/site-packages/openeo-0.4.5a1-py3.7.egg/openeo/rest/connection.py\u001b[0m in \u001b[0;36mget\u001b[0;34m(self, path, stream, auth, **kwargs)\u001b[0m\n\u001b[1;32m    149\u001b[0m         \u001b[0;34m:\u001b[0m\u001b[0;32mreturn\u001b[0m\u001b[0;34m:\u001b[0m \u001b[0mresponse\u001b[0m\u001b[0;34m:\u001b[0m \u001b[0mResponse\u001b[0m\u001b[0;34m\u001b[0m\u001b[0;34m\u001b[0m\u001b[0m\n\u001b[1;32m    150\u001b[0m         \"\"\"\n\u001b[0;32m--> 151\u001b[0;31m         \u001b[0;32mreturn\u001b[0m \u001b[0mself\u001b[0m\u001b[0;34m.\u001b[0m\u001b[0mrequest\u001b[0m\u001b[0;34m(\u001b[0m\u001b[0;34m\"get\"\u001b[0m\u001b[0;34m,\u001b[0m \u001b[0mpath\u001b[0m\u001b[0;34m=\u001b[0m\u001b[0mpath\u001b[0m\u001b[0;34m,\u001b[0m \u001b[0mstream\u001b[0m\u001b[0;34m=\u001b[0m\u001b[0mstream\u001b[0m\u001b[0;34m,\u001b[0m \u001b[0mauth\u001b[0m\u001b[0;34m=\u001b[0m\u001b[0mauth\u001b[0m\u001b[0;34m,\u001b[0m \u001b[0;34m**\u001b[0m\u001b[0mkwargs\u001b[0m\u001b[0;34m)\u001b[0m\u001b[0;34m\u001b[0m\u001b[0;34m\u001b[0m\u001b[0m\n\u001b[0m\u001b[1;32m    152\u001b[0m \u001b[0;34m\u001b[0m\u001b[0m\n\u001b[1;32m    153\u001b[0m     \u001b[0;32mdef\u001b[0m \u001b[0mpost\u001b[0m\u001b[0;34m(\u001b[0m\u001b[0mself\u001b[0m\u001b[0;34m,\u001b[0m \u001b[0mpath\u001b[0m\u001b[0;34m,\u001b[0m \u001b[0mjson\u001b[0m\u001b[0;34m:\u001b[0m \u001b[0mdict\u001b[0m \u001b[0;34m=\u001b[0m \u001b[0;32mNone\u001b[0m\u001b[0;34m,\u001b[0m \u001b[0;34m**\u001b[0m\u001b[0mkwargs\u001b[0m\u001b[0;34m)\u001b[0m \u001b[0;34m->\u001b[0m \u001b[0mResponse\u001b[0m\u001b[0;34m:\u001b[0m\u001b[0;34m\u001b[0m\u001b[0;34m\u001b[0m\u001b[0m\n",
      "\u001b[0;32m/opt/conda/envs/classification/lib/python3.7/site-packages/openeo-0.4.5a1-py3.7.egg/openeo/rest/connection.py\u001b[0m in \u001b[0;36mrequest\u001b[0;34m(self, method, path, headers, auth, check_error, expected_status, **kwargs)\u001b[0m\n\u001b[1;32m    107\u001b[0m         \u001b[0mexpected_status\u001b[0m \u001b[0;34m=\u001b[0m \u001b[0mensure_list\u001b[0m\u001b[0;34m(\u001b[0m\u001b[0mexpected_status\u001b[0m\u001b[0;34m)\u001b[0m \u001b[0;32mif\u001b[0m \u001b[0mexpected_status\u001b[0m \u001b[0;32melse\u001b[0m \u001b[0;34m[\u001b[0m\u001b[0;34m]\u001b[0m\u001b[0;34m\u001b[0m\u001b[0;34m\u001b[0m\u001b[0m\n\u001b[1;32m    108\u001b[0m         \u001b[0;32mif\u001b[0m \u001b[0mcheck_error\u001b[0m \u001b[0;32mand\u001b[0m \u001b[0mstatus\u001b[0m \u001b[0;34m>=\u001b[0m \u001b[0;36m400\u001b[0m \u001b[0;32mand\u001b[0m \u001b[0mstatus\u001b[0m \u001b[0;32mnot\u001b[0m \u001b[0;32min\u001b[0m \u001b[0mexpected_status\u001b[0m\u001b[0;34m:\u001b[0m\u001b[0;34m\u001b[0m\u001b[0;34m\u001b[0m\u001b[0m\n\u001b[0;32m--> 109\u001b[0;31m             \u001b[0mself\u001b[0m\u001b[0;34m.\u001b[0m\u001b[0m_raise_api_error\u001b[0m\u001b[0;34m(\u001b[0m\u001b[0mresp\u001b[0m\u001b[0;34m)\u001b[0m\u001b[0;34m\u001b[0m\u001b[0;34m\u001b[0m\u001b[0m\n\u001b[0m\u001b[1;32m    110\u001b[0m         \u001b[0;32mif\u001b[0m \u001b[0mexpected_status\u001b[0m \u001b[0;32mand\u001b[0m \u001b[0mstatus\u001b[0m \u001b[0;32mnot\u001b[0m \u001b[0;32min\u001b[0m \u001b[0mexpected_status\u001b[0m\u001b[0;34m:\u001b[0m\u001b[0;34m\u001b[0m\u001b[0;34m\u001b[0m\u001b[0m\n\u001b[1;32m    111\u001b[0m             raise OpenEoClientException(\"Got status code {s!r} for `{m} {p}` (expected {e!r})\".format(\n",
      "\u001b[0;32m/opt/conda/envs/classification/lib/python3.7/site-packages/openeo-0.4.5a1-py3.7.egg/openeo/rest/connection.py\u001b[0m in \u001b[0;36m_raise_api_error\u001b[0;34m(self, response)\u001b[0m\n\u001b[1;32m    138\u001b[0m             \u001b[0;32melse\u001b[0m\u001b[0;34m:\u001b[0m\u001b[0;34m\u001b[0m\u001b[0;34m\u001b[0m\u001b[0m\n\u001b[1;32m    139\u001b[0m                 \u001b[0mexception\u001b[0m \u001b[0;34m=\u001b[0m \u001b[0mOpenEoApiError\u001b[0m\u001b[0;34m(\u001b[0m\u001b[0mhttp_status_code\u001b[0m\u001b[0;34m=\u001b[0m\u001b[0mstatus_code\u001b[0m\u001b[0;34m,\u001b[0m \u001b[0mmessage\u001b[0m\u001b[0;34m=\u001b[0m\u001b[0mtext\u001b[0m\u001b[0;34m)\u001b[0m\u001b[0;34m\u001b[0m\u001b[0;34m\u001b[0m\u001b[0m\n\u001b[0;32m--> 140\u001b[0;31m         \u001b[0;32mraise\u001b[0m \u001b[0mexception\u001b[0m\u001b[0;34m\u001b[0m\u001b[0;34m\u001b[0m\u001b[0m\n\u001b[0m\u001b[1;32m    141\u001b[0m \u001b[0;34m\u001b[0m\u001b[0m\n\u001b[1;32m    142\u001b[0m     \u001b[0;32mdef\u001b[0m \u001b[0mget\u001b[0m\u001b[0;34m(\u001b[0m\u001b[0mself\u001b[0m\u001b[0;34m,\u001b[0m \u001b[0mpath\u001b[0m\u001b[0;34m,\u001b[0m \u001b[0mstream\u001b[0m\u001b[0;34m=\u001b[0m\u001b[0;32mFalse\u001b[0m\u001b[0;34m,\u001b[0m \u001b[0mauth\u001b[0m\u001b[0;34m:\u001b[0m \u001b[0mAuthBase\u001b[0m \u001b[0;34m=\u001b[0m \u001b[0;32mNone\u001b[0m\u001b[0;34m,\u001b[0m \u001b[0;34m**\u001b[0m\u001b[0mkwargs\u001b[0m\u001b[0;34m)\u001b[0m \u001b[0;34m->\u001b[0m \u001b[0mResponse\u001b[0m\u001b[0;34m:\u001b[0m\u001b[0;34m\u001b[0m\u001b[0;34m\u001b[0m\u001b[0m\n",
      "\u001b[0;31mOpenEoApiError\u001b[0m: [403] CredentialsInvalid: Credentials are not correct."
     ]
    }
   ],
   "source": [
    "# connect to vito backend\n",
    "VITO_DRIVER_URL = \"https://openeo.vito.be/openeo/1.0/\"\n",
    "import openeo\n",
    "print(openeo.__version__)\n",
    "# initiate a session to the vito backend:\n",
    "from openeo.metadata import CollectionMetadata, TemporalDimension, BandDimension, SpatialDimension\n",
    "session = openeo.connect(VITO_DRIVER_URL).authenticate_basic(username=\"xxx\", password=\"xxx\")"
   ]
  },
  {
   "cell_type": "code",
   "execution_count": 61,
   "metadata": {},
   "outputs": [
    {
     "name": "stdout",
     "output_type": "stream",
     "text": [
      "{\n",
      "  \"loaddiskdata1\": {\n",
      "    \"process_id\": \"load_disk_data\",\n",
      "    \"arguments\": {\n",
      "      \"format\": \"GTiff\",\n",
      "      \"glob_pattern\": \"/data/users/Public/driesj/openeo/eurac/S1A_IW_GRDH_*_015_VH_VV_eurac.tif\",\n",
      "      \"options\": {\n",
      "        \"date_regex\": \".*_(\\\\d{4})(\\\\d{2})(\\\\d{2})T.*\"\n",
      "      }\n",
      "    },\n",
      "    \"result\": true\n",
      "  }\n",
      "}\n"
     ]
    }
   ],
   "source": [
    "# upload s1a\n",
    "backscatter = session.load_disk_collection('GTiff', str('/data/users/Public/driesj/openeo/eurac/S1A_IW_GRDH_*_015_VH_VV_eurac.tif'), options={'date_regex': '.*_(\\d{4})(\\d{2})(\\d{2})T.*'})\n",
    "import json\n",
    "print(json.dumps(backscatter.graph,indent=2))\n",
    "#we have to provide our own collection metadata, as it is loaded ad hoc by the backend\n",
    "backscatter.metadata = CollectionMetadata(metadata={},dimensions=[TemporalDimension(name='t',extent=(\"20151106\",\"20151212\"))]) #, BandDimension(name='bands', )])\n",
    "\n",
    "# how to provide metadata for the band dimension so that its accepted by filter bands?\n",
    "backscatter.metatata = CollectionMetadata(metadata={},dimensions=[BandDimension(name='bands',bands=['VH','VV'])])\n",
    "#print(backscatter.metadata)\n",
    "#backscatter.download(\"eurac_backscatter.tiff\",format=\"GTiff\")\n"
   ]
  },
  {
   "cell_type": "code",
   "execution_count": 62,
   "metadata": {},
   "outputs": [
    {
     "ename": "MetadataException",
     "evalue": "No band dimension",
     "output_type": "error",
     "traceback": [
      "\u001b[0;31m---------------------------------------------------------------------------\u001b[0m",
      "\u001b[0;31mMetadataException\u001b[0m                         Traceback (most recent call last)",
      "\u001b[0;32m<ipython-input-62-187cb5af4729>\u001b[0m in \u001b[0;36m<module>\u001b[0;34m\u001b[0m\n\u001b[1;32m      1\u001b[0m \u001b[0;31m# module 1 ----\u001b[0m\u001b[0;34m\u001b[0m\u001b[0;34m\u001b[0m\u001b[0;34m\u001b[0m\u001b[0m\n\u001b[1;32m      2\u001b[0m \u001b[0;31m# normalize vh\u001b[0m\u001b[0;34m\u001b[0m\u001b[0;34m\u001b[0m\u001b[0;34m\u001b[0m\u001b[0m\n\u001b[0;32m----> 3\u001b[0;31m \u001b[0mvh\u001b[0m \u001b[0;34m=\u001b[0m \u001b[0mbackscatter\u001b[0m\u001b[0;34m.\u001b[0m\u001b[0mfilter_bands\u001b[0m\u001b[0;34m(\u001b[0m\u001b[0;34m[\u001b[0m\u001b[0;34m\"VH\"\u001b[0m\u001b[0;34m]\u001b[0m\u001b[0;34m)\u001b[0m \u001b[0;31m# this doesn't work... band dim is missing\u001b[0m\u001b[0;34m\u001b[0m\u001b[0;34m\u001b[0m\u001b[0m\n\u001b[0m\u001b[1;32m      4\u001b[0m \u001b[0;31m#tst = backscatter.filter_temporal(\"2015-11-06\",\"2015-11-07\") # this works... time dim has been added correctly\u001b[0m\u001b[0;34m\u001b[0m\u001b[0;34m\u001b[0m\u001b[0;34m\u001b[0m\u001b[0m\n\u001b[1;32m      5\u001b[0m \u001b[0;31m#vh_ref = vh.max_time() # more generically reduce, callback max\u001b[0m\u001b[0;34m\u001b[0m\u001b[0;34m\u001b[0m\u001b[0;34m\u001b[0m\u001b[0m\n",
      "\u001b[0;32m/opt/conda/envs/classification/lib/python3.7/site-packages/openeo-0.4.5a1-py3.7.egg/openeo/rest/datacube.py\u001b[0m in \u001b[0;36mfilter_bands\u001b[0;34m(self, bands)\u001b[0m\n\u001b[1;32m    222\u001b[0m         \u001b[0;32mif\u001b[0m \u001b[0misinstance\u001b[0m\u001b[0;34m(\u001b[0m\u001b[0mbands\u001b[0m\u001b[0;34m,\u001b[0m \u001b[0mstr\u001b[0m\u001b[0;34m)\u001b[0m\u001b[0;34m:\u001b[0m\u001b[0;34m\u001b[0m\u001b[0;34m\u001b[0m\u001b[0m\n\u001b[1;32m    223\u001b[0m             \u001b[0mbands\u001b[0m \u001b[0;34m=\u001b[0m \u001b[0;34m[\u001b[0m\u001b[0mbands\u001b[0m\u001b[0;34m]\u001b[0m\u001b[0;34m\u001b[0m\u001b[0;34m\u001b[0m\u001b[0m\n\u001b[0;32m--> 224\u001b[0;31m         \u001b[0mbands\u001b[0m \u001b[0;34m=\u001b[0m \u001b[0;34m[\u001b[0m\u001b[0mself\u001b[0m\u001b[0;34m.\u001b[0m\u001b[0mmetadata\u001b[0m\u001b[0;34m.\u001b[0m\u001b[0mband_dimension\u001b[0m\u001b[0;34m.\u001b[0m\u001b[0mband_name\u001b[0m\u001b[0;34m(\u001b[0m\u001b[0mb\u001b[0m\u001b[0;34m)\u001b[0m \u001b[0;32mfor\u001b[0m \u001b[0mb\u001b[0m \u001b[0;32min\u001b[0m \u001b[0mbands\u001b[0m\u001b[0;34m]\u001b[0m\u001b[0;34m\u001b[0m\u001b[0;34m\u001b[0m\u001b[0m\n\u001b[0m\u001b[1;32m    225\u001b[0m         cube = self.process(\n\u001b[1;32m    226\u001b[0m             \u001b[0mprocess_id\u001b[0m\u001b[0;34m=\u001b[0m\u001b[0;34m'filter_bands'\u001b[0m\u001b[0;34m,\u001b[0m\u001b[0;34m\u001b[0m\u001b[0;34m\u001b[0m\u001b[0m\n",
      "\u001b[0;32m/opt/conda/envs/classification/lib/python3.7/site-packages/openeo-0.4.5a1-py3.7.egg/openeo/rest/datacube.py\u001b[0m in \u001b[0;36m<listcomp>\u001b[0;34m(.0)\u001b[0m\n\u001b[1;32m    222\u001b[0m         \u001b[0;32mif\u001b[0m \u001b[0misinstance\u001b[0m\u001b[0;34m(\u001b[0m\u001b[0mbands\u001b[0m\u001b[0;34m,\u001b[0m \u001b[0mstr\u001b[0m\u001b[0;34m)\u001b[0m\u001b[0;34m:\u001b[0m\u001b[0;34m\u001b[0m\u001b[0;34m\u001b[0m\u001b[0m\n\u001b[1;32m    223\u001b[0m             \u001b[0mbands\u001b[0m \u001b[0;34m=\u001b[0m \u001b[0;34m[\u001b[0m\u001b[0mbands\u001b[0m\u001b[0;34m]\u001b[0m\u001b[0;34m\u001b[0m\u001b[0;34m\u001b[0m\u001b[0m\n\u001b[0;32m--> 224\u001b[0;31m         \u001b[0mbands\u001b[0m \u001b[0;34m=\u001b[0m \u001b[0;34m[\u001b[0m\u001b[0mself\u001b[0m\u001b[0;34m.\u001b[0m\u001b[0mmetadata\u001b[0m\u001b[0;34m.\u001b[0m\u001b[0mband_dimension\u001b[0m\u001b[0;34m.\u001b[0m\u001b[0mband_name\u001b[0m\u001b[0;34m(\u001b[0m\u001b[0mb\u001b[0m\u001b[0;34m)\u001b[0m \u001b[0;32mfor\u001b[0m \u001b[0mb\u001b[0m \u001b[0;32min\u001b[0m \u001b[0mbands\u001b[0m\u001b[0;34m]\u001b[0m\u001b[0;34m\u001b[0m\u001b[0;34m\u001b[0m\u001b[0m\n\u001b[0m\u001b[1;32m    225\u001b[0m         cube = self.process(\n\u001b[1;32m    226\u001b[0m             \u001b[0mprocess_id\u001b[0m\u001b[0;34m=\u001b[0m\u001b[0;34m'filter_bands'\u001b[0m\u001b[0;34m,\u001b[0m\u001b[0;34m\u001b[0m\u001b[0;34m\u001b[0m\u001b[0m\n",
      "\u001b[0;32m/opt/conda/envs/classification/lib/python3.7/site-packages/openeo-0.4.5a1-py3.7.egg/openeo/metadata.py\u001b[0m in \u001b[0;36mband_dimension\u001b[0;34m(self)\u001b[0m\n\u001b[1;32m    250\u001b[0m         \u001b[0;34m\"\"\"Dimension corresponding to spectral/logic/thematic \"bands\".\"\"\"\u001b[0m\u001b[0;34m\u001b[0m\u001b[0;34m\u001b[0m\u001b[0m\n\u001b[1;32m    251\u001b[0m         \u001b[0;32mif\u001b[0m \u001b[0;32mnot\u001b[0m \u001b[0mself\u001b[0m\u001b[0;34m.\u001b[0m\u001b[0mhas_band_dimension\u001b[0m\u001b[0;34m(\u001b[0m\u001b[0;34m)\u001b[0m\u001b[0;34m:\u001b[0m\u001b[0;34m\u001b[0m\u001b[0;34m\u001b[0m\u001b[0m\n\u001b[0;32m--> 252\u001b[0;31m             \u001b[0;32mraise\u001b[0m \u001b[0mMetadataException\u001b[0m\u001b[0;34m(\u001b[0m\u001b[0;34m\"No band dimension\"\u001b[0m\u001b[0;34m)\u001b[0m\u001b[0;34m\u001b[0m\u001b[0;34m\u001b[0m\u001b[0m\n\u001b[0m\u001b[1;32m    253\u001b[0m         \u001b[0;32mreturn\u001b[0m \u001b[0mself\u001b[0m\u001b[0;34m.\u001b[0m\u001b[0m_band_dimension\u001b[0m\u001b[0;34m\u001b[0m\u001b[0;34m\u001b[0m\u001b[0m\n\u001b[1;32m    254\u001b[0m \u001b[0;34m\u001b[0m\u001b[0m\n",
      "\u001b[0;31mMetadataException\u001b[0m: No band dimension"
     ]
    }
   ],
   "source": [
    "# module 1 ----\n",
    "# normalize vh\n",
    "vh = backscatter.filter_bands([\"VH\"]) # this doesn't work... band dim is missing\n",
    "#tst = backscatter.filter_temporal(\"2015-11-06\",\"2015-11-07\") # this works... time dim has been added correctly\n",
    "#vh_ref = vh.max_time() # more generically reduce, callback max\n",
    "#vh_norm = vh.merge(vh_ref) # mergecubes(vh, vh_ref, overlap_resolver = \"-\") # 1:n case\n",
    "#session.reduce\n",
    "#tst = backscatter.reduce_dimension(\"max\", dimension=\"t\")\n",
    "\n",
    "# normalize vv"
   ]
  },
  {
   "cell_type": "code",
   "execution_count": 56,
   "metadata": {},
   "outputs": [
    {
     "name": "stdout",
     "output_type": "stream",
     "text": [
      "['array_apply', 'arccos', 'arcosh', 'power', 'last', 'subtract', 'not', 'cosh', 'artanh', 'is_valid', 'first', 'median', 'eq', 'absolute', 'arctan2', 'array_labels', 'divide', 'is_nan', 'all', 'round', 'min', 'any', 'gte', 'cos', 'between', 'count', 'xor', 'extrema', 'and', 'variance', 'or', 'sum', 'sin', 'sinh', 'product', 'exp', 'neq', 'sd', 'sort', 'normalized_difference', 'int', 'order', 'array_find', 'if', 'sqrt', 'add', 'e', 'arsinh', 'mean', 'array_filter', 'mod', 'multiply', 'lte', 'pi', 'ceil', 'tan', 'tanh', 'arctan', 'floor', 'array_element', 'clip', 'sgn', 'quantiles', 'arcsin', 'rearrange', 'array_contains', 'is_nodata', 'gt', 'ln', 'log', 'max', 'lt', 'load_collection', 'load_disk_data', 'apply_neighborhood', 'apply_dimension', 'save_result', 'apply', 'reduce_dimension', 'add_dimension', 'aggregate_temporal', 'aggregate_spatial', 'mask', 'mask_polygon', 'filter_temporal', 'filter_bbox', 'filter_bands', 'apply_kernel', 'ndvi', 'resample_spatial', 'resample_cube_spatial', 'merge_cubes', 'run_udf', 'linear_scale_range', 'histogram', 'read_vector', 'raster_to_vector', 'sleep']\n"
     ]
    }
   ],
   "source": [
    "#print(session.list_processes())\n",
    "print([process[\"id\"] for process in session.list_processes()])\n"
   ]
  },
  {
   "cell_type": "code",
   "execution_count": null,
   "metadata": {},
   "outputs": [],
   "source": [
    "# upload lia \n",
    "lia = session.load_disk_collection('GTiff', str('/data/users/Public/driesj/openeo/eurac/S1A_IW_GRDH_20141205T171502_015_LIA_eurac.tif'), options={'date_regex': '.*_(\\d{4})(\\d{2})(\\d{2})T.*'})\n",
    "#we have to provide our own collection metadata, as it is loaded ad hoc by the backend\n",
    "lia.metadata = CollectionMetadata(metadata={},dimensions=[TemporalDimension(name='t',extent=(\"20151106\",\"20151212\"))])\n",
    "#lia.download(\"eurac_lia.tiff\",format=\"GTiff\")\n"
   ]
  },
  {
   "cell_type": "code",
   "execution_count": null,
   "metadata": {},
   "outputs": [],
   "source": [
    "# upload modis snow\n",
    "modis = session.load_disk_collection('GTiff', str('/data/users/Public/driesj/openeo/eurac/ERUAC_MODIS_SNOW_*_120000.tif'), options={'date_regex': '.*_(\\d{4})(\\d{2})(\\d{2})_.*'})\n",
    "#we have to provide our own collection metadata, as it is loaded ad hoc by the backend\n",
    "modis.metadata = CollectionMetadata(metadata={},dimensions=[TemporalDimension(name='t',extent=(\"20151106\",\"20151212\"))])\n",
    "#modis.download(\"eurac_snow.tiff\",format=\"GTiff\")"
   ]
  }
 ],
 "metadata": {
  "kernelspec": {
   "display_name": "Python [conda env:classification] *",
   "language": "python",
   "name": "conda-env-classification-py"
  },
  "language_info": {
   "codemirror_mode": {
    "name": "ipython",
    "version": 3
   },
   "file_extension": ".py",
   "mimetype": "text/x-python",
   "name": "python",
   "nbconvert_exporter": "python",
   "pygments_lexer": "ipython3",
   "version": "3.7.3"
  }
 },
 "nbformat": 4,
 "nbformat_minor": 2
}
