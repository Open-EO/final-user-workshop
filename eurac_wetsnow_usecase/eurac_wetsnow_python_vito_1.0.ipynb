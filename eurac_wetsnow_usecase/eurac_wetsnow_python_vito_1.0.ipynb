{
 "cells": [
  {
   "cell_type": "code",
   "execution_count": 7,
   "metadata": {},
   "outputs": [
    {
     "name": "stdout",
     "output_type": "stream",
     "text": [
      "3.7.3\n"
     ]
    }
   ],
   "source": [
    "# use case on vito backend\n",
    "from platform import python_version\n",
    "print(python_version())\n",
    "\n"
   ]
  },
  {
   "cell_type": "code",
   "execution_count": 2,
   "metadata": {},
   "outputs": [
    {
     "name": "stdout",
     "output_type": "stream",
     "text": [
      "0.4.5a1\n"
     ]
    }
   ],
   "source": [
    "# connect to vito backend\n",
    "VITO_DRIVER_URL = \"https://openeo.vito.be/openeo/1.0/\"\n",
    "import openeo\n",
    "print(openeo.__version__)\n",
    "# initiate a session to the vito backend:\n",
    "from openeo.metadata import CollectionMetadata, TemporalDimension, BandDimension, SpatialDimension\n",
    "session = openeo.connect(VITO_DRIVER_URL).authenticate_basic(username=\"peter\", password=\"peter123\")"
   ]
  },
  {
   "cell_type": "code",
   "execution_count": 11,
   "metadata": {},
   "outputs": [
    {
     "name": "stdout",
     "output_type": "stream",
     "text": [
      "0.4.5a1\n",
      "{'stac_version': '0.9.0', 'stac_extensions': ['datacube'], 'id': 'ST_GRIDDED_CLIMATE_SERIES_PRECIPITATION', 'title': 'ST_GRIDDED_CLIMATE_SERIES_PRECIPITATION', 'description': 'Gridded Daily Mean Precipitation series for ST', 'keywords': [''], 'version': 'v1', 'deprecated': False, 'license': 'proprietary', 'providers': [], 'extent': {'spatial': {'bbox': [[10.359172933818495, 45.68197904143782, 12.505667135898664, 47.08308574170613]]}, 'temporal': {'interval': [['1980-01-01T12:00:00Z', '2019-01-01T12:00:00Z']]}}, 'links': [{'rel': 'license', 'href': 'https://creativecommons.org/licenses/by/4.0/', 'type': 'text/html', 'title': 'License Link'}], 'cube:dimensions': {'DATE': {'type': 'temporal', 'extent': ['1980-01-01T12:00:00.000Z', '2019-01-01T12:00:00.000Z'], 'step': '86400'}, 'E': {'type': 'spatial', 'axis': 'x', 'extent': [10.359172933818495, 12.505667135898664], 'reference_system': '32632'}, 'bands': {'type': 'bands', 'values': ['precipitation']}, 'N': {'type': 'spatial', 'axis': 'y', 'extent': [45.68197904143782, 47.08308574170613], 'reference_system': '32632'}}, 'summaries': {}, 'assets': {}}\n"
     ]
    }
   ],
   "source": [
    "# connect to eurac backend\n",
    "host = \"https://openeo.eurac.edu/\"\n",
    "import openeo\n",
    "print(openeo.__version__)\n",
    "session = openeo.connect(host)\n",
    "print(session.describe_collection(\"ST_GRIDDED_CLIMATE_SERIES_PRECIPITATION\"))\n",
    "#.authenticate_basic()"
   ]
  },
  {
   "cell_type": "code",
   "execution_count": 15,
   "metadata": {},
   "outputs": [
    {
     "name": "stdout",
     "output_type": "stream",
     "text": [
      "0.4.5a1\n",
      "{'stac_version': '0.9.0', 'stac_extensions': ['datacube'], 'id': 'ST_GRIDDED_CLIMATE_SERIES_PRECIPITATION', 'title': 'ST_GRIDDED_CLIMATE_SERIES_PRECIPITATION', 'description': 'Gridded Daily Mean Precipitation series for ST', 'keywords': [''], 'version': 'v1', 'deprecated': False, 'license': 'proprietary', 'providers': [], 'extent': {'spatial': {'bbox': [[10.359172933818495, 45.68197904143782, 12.505667135898664, 47.08308574170613]]}, 'temporal': {'interval': [['1980-01-01T12:00:00Z', '2019-01-01T12:00:00Z']]}}, 'links': [{'rel': 'license', 'href': 'https://creativecommons.org/licenses/by/4.0/', 'type': 'text/html', 'title': 'License Link'}], 'cube:dimensions': {'DATE': {'type': 'temporal', 'extent': ['1980-01-01T12:00:00.000Z', '2019-01-01T12:00:00.000Z'], 'step': '86400'}, 'E': {'type': 'spatial', 'axis': 'x', 'extent': [10.359172933818495, 12.505667135898664], 'reference_system': '32632'}, 'bands': {'type': 'bands', 'values': ['precipitation']}, 'N': {'type': 'spatial', 'axis': 'y', 'extent': [45.68197904143782, 47.08308574170613], 'reference_system': '32632'}}, 'summaries': {}, 'assets': {}}\n",
      "{'stac_version': '0.9.0', 'stac_extensions': ['datacube'], 'id': 'ST_GRIDDED_CLIMATE_SERIES_TEMPERATURE', 'title': 'ST_GRIDDED_CLIMATE_SERIES_TEMPERATURE', 'description': 'Gridded Daily Mean Temperature series for ST', 'keywords': [''], 'version': 'v1', 'deprecated': False, 'license': 'proprietary', 'providers': [], 'extent': {'spatial': {'bbox': [[10.359172933818495, 45.68197904143782, 12.505667135898664, 47.08308574170613]]}, 'temporal': {'interval': [['1980-01-01T12:00:00Z', '2019-01-01T12:00:00Z']]}}, 'links': [{'rel': 'license', 'href': 'https://creativecommons.org/licenses/by/4.0/', 'type': 'text/html', 'title': 'License Link'}], 'cube:dimensions': {'DATE': {'type': 'temporal', 'extent': ['1980-01-01T12:00:00.000Z', '2019-01-01T12:00:00.000Z'], 'step': '86400'}, 'E': {'type': 'spatial', 'axis': 'x', 'extent': [10.359172933818495, 12.505667135898664], 'reference_system': '32632'}, 'bands': {'type': 'bands', 'values': ['temperature']}, 'N': {'type': 'spatial', 'axis': 'y', 'extent': [45.68197904143782, 47.08308574170613], 'reference_system': '32632'}}, 'summaries': {}, 'assets': {}}\n",
      "{'stac_version': '0.9.0', 'stac_extensions': ['datacube'], 'id': 'ST_GRIDDED_CLIMATOLOGIES_PRECIPITATION', 'title': 'ST_GRIDDED_CLIMATOLOGIES_PRECIPITATION', 'description': 'Gridded Climatologies of Monthly Mean Precipitation for ST', 'keywords': [''], 'version': 'v1', 'deprecated': False, 'license': 'proprietary', 'providers': [], 'extent': {'spatial': {'bbox': [[10.359172933818495, 45.68197904143782, 12.505667135898664, 47.08308574170613]]}, 'temporal': None}, 'links': [{'rel': 'license', 'href': 'https://creativecommons.org/licenses/by/4.0/', 'type': 'text/html', 'title': 'License Link'}], 'cube:dimensions': {'DATE': {'type': 'temporal', 'extent': ['1', '13'], 'step': '1'}, 'E': {'type': 'spatial', 'axis': 'x', 'extent': [10.359172933818495, 12.505667135898664], 'reference_system': '32632'}, 'bands': {'type': 'bands', 'values': ['precipitation']}, 'N': {'type': 'spatial', 'axis': 'y', 'extent': [45.68197904143782, 47.08308574170613], 'reference_system': '32632'}}, 'summaries': {}, 'assets': {}}\n",
      "{'stac_version': '0.9.0', 'stac_extensions': ['datacube'], 'id': 'ST_GRIDDED_CLIMATOLOGIES_TEMPERATURE', 'title': 'ST_GRIDDED_CLIMATOLOGIES_TEMPERATURE', 'description': 'Gridded Climatologies of Monthly Mean Temperature for ST', 'keywords': [''], 'version': 'v1', 'deprecated': False, 'license': 'proprietary', 'providers': [], 'extent': {'spatial': {'bbox': [[10.359172933818495, 45.68197904143782, 12.505667135898664, 47.08308574170613]]}, 'temporal': None}, 'links': [{'rel': 'license', 'href': 'https://creativecommons.org/licenses/by/4.0/', 'type': 'text/html', 'title': 'License Link'}], 'cube:dimensions': {'DATE': {'type': 'temporal', 'extent': ['1', '13'], 'step': '1'}, 'E': {'type': 'spatial', 'axis': 'x', 'extent': [10.359172933818495, 12.505667135898664], 'reference_system': '32632'}, 'bands': {'type': 'bands', 'values': ['temperature']}, 'N': {'type': 'spatial', 'axis': 'y', 'extent': [45.68197904143782, 47.08308574170613], 'reference_system': '32632'}}, 'summaries': {}, 'assets': {}}\n",
      "{'input': {'GPKG': {'title': 'OGC GeoPackage', 'gis_data_types': ['raster'], 'parameters': {'table': {'type': 'string', 'description': '**RASTER ONLY.** Name of the table containing the tiles. If the GeoPackage dataset only contains one table, this option is not necessary. Otherwise, it is required.', 'required': False}}, 'links': [{'rel': 'about', 'href': 'https://www.gdal.org/drv_geopackage_raster.html', 'title': 'GDAL on GeoPackage for raster data'}]}}, 'output': {'netCDF': {'title': 'NetCDF', 'gis_data_types': ['raster'], 'parameters': {}}, 'GTiff': {'title': 'GeoTiff', 'description': \"Export to GeoTiff. Doesn't support cloud-optimized GeoTiffs (COGs) yet.\", 'gis_data_types': ['raster'], 'parameters': {}, 'links': [{'rel': 'about', 'href': 'https://www.gdal.org/frmt_gtiff.html', 'title': 'GDAL on the GeoTiff file format and storage options'}]}, 'GIF': {'title': 'GIf', 'gis_data_types': ['raster'], 'parameters': {}}, 'CSV': {'title': 'Comma Separated Value', 'gis_data_types': ['raster'], 'parameters': {}}, 'PNG': {'title': 'Portable Network Graphics', 'gis_data_types': ['raster'], 'parameters': {}}, 'JSON': {'title': 'JavaScript Object Notation', 'gis_data_types': ['raster'], 'parameters': {}}, 'JPEG': {'title': 'Joint Photographic Experts Group', 'gis_data_types': ['raster'], 'parameters': {}}}}\n"
     ]
    },
    {
     "ename": "OpenEoApiError",
     "evalue": "[500] unknown: ",
     "output_type": "error",
     "traceback": [
      "\u001b[0;31m---------------------------------------------------------------------------\u001b[0m",
      "\u001b[0;31mOpenEoApiError\u001b[0m                            Traceback (most recent call last)",
      "\u001b[0;32m<ipython-input-15-ac5052e089fc>\u001b[0m in \u001b[0;36m<module>\u001b[0;34m\u001b[0m\n\u001b[1;32m     27\u001b[0m \u001b[0;31m# download\u001b[0m\u001b[0;34m\u001b[0m\u001b[0;34m\u001b[0m\u001b[0;34m\u001b[0m\u001b[0m\n\u001b[1;32m     28\u001b[0m \u001b[0mprint\u001b[0m\u001b[0;34m(\u001b[0m\u001b[0msession\u001b[0m\u001b[0;34m.\u001b[0m\u001b[0mlist_file_formats\u001b[0m\u001b[0;34m(\u001b[0m\u001b[0;34m)\u001b[0m\u001b[0;34m)\u001b[0m \u001b[0;31m# see which formats are there.\u001b[0m\u001b[0;34m\u001b[0m\u001b[0;34m\u001b[0m\u001b[0m\n\u001b[0;32m---> 29\u001b[0;31m \u001b[0mdata\u001b[0m\u001b[0;34m.\u001b[0m\u001b[0mdownload\u001b[0m\u001b[0;34m(\u001b[0m\u001b[0;34m\"clim.nc\"\u001b[0m\u001b[0;34m,\u001b[0m \u001b[0mformat\u001b[0m\u001b[0;34m=\u001b[0m\u001b[0;34m\"NETCDF\"\u001b[0m\u001b[0;34m)\u001b[0m\u001b[0;34m\u001b[0m\u001b[0;34m\u001b[0m\u001b[0m\n\u001b[0m\u001b[1;32m     30\u001b[0m \u001b[0;34m\u001b[0m\u001b[0m\n\u001b[1;32m     31\u001b[0m \u001b[0;31m# more information on python client and installation\u001b[0m\u001b[0;34m\u001b[0m\u001b[0;34m\u001b[0m\u001b[0;34m\u001b[0m\u001b[0m\n",
      "\u001b[0;32m/opt/conda/envs/classification/lib/python3.7/site-packages/openeo-0.4.5a1-py3.7.egg/openeo/rest/datacube.py\u001b[0m in \u001b[0;36mdownload\u001b[0;34m(self, outputfile, format, options)\u001b[0m\n\u001b[1;32m   1097\u001b[0m         \"\"\"\n\u001b[1;32m   1098\u001b[0m         \u001b[0mnewcollection\u001b[0m \u001b[0;34m=\u001b[0m \u001b[0mself\u001b[0m\u001b[0;34m.\u001b[0m\u001b[0msave_result\u001b[0m\u001b[0;34m(\u001b[0m\u001b[0mformat\u001b[0m\u001b[0;34m=\u001b[0m\u001b[0mformat\u001b[0m\u001b[0;34m,\u001b[0m \u001b[0moptions\u001b[0m\u001b[0;34m=\u001b[0m\u001b[0moptions\u001b[0m\u001b[0;34m)\u001b[0m\u001b[0;34m\u001b[0m\u001b[0;34m\u001b[0m\u001b[0m\n\u001b[0;32m-> 1099\u001b[0;31m         \u001b[0;32mreturn\u001b[0m \u001b[0mself\u001b[0m\u001b[0;34m.\u001b[0m\u001b[0m_connection\u001b[0m\u001b[0;34m.\u001b[0m\u001b[0mdownload\u001b[0m\u001b[0;34m(\u001b[0m\u001b[0mnewcollection\u001b[0m\u001b[0;34m.\u001b[0m\u001b[0m_pg\u001b[0m\u001b[0;34m.\u001b[0m\u001b[0mflatten\u001b[0m\u001b[0;34m(\u001b[0m\u001b[0;34m)\u001b[0m\u001b[0;34m,\u001b[0m \u001b[0moutputfile\u001b[0m\u001b[0;34m)\u001b[0m\u001b[0;34m\u001b[0m\u001b[0;34m\u001b[0m\u001b[0m\n\u001b[0m\u001b[1;32m   1100\u001b[0m \u001b[0;34m\u001b[0m\u001b[0m\n\u001b[1;32m   1101\u001b[0m     \u001b[0;32mdef\u001b[0m \u001b[0mtiled_viewing_service\u001b[0m\u001b[0;34m(\u001b[0m\u001b[0mself\u001b[0m\u001b[0;34m,\u001b[0m \u001b[0mtype\u001b[0m\u001b[0;34m:\u001b[0m \u001b[0mstr\u001b[0m\u001b[0;34m,\u001b[0m \u001b[0;34m**\u001b[0m\u001b[0mkwargs\u001b[0m\u001b[0;34m)\u001b[0m \u001b[0;34m->\u001b[0m \u001b[0mDict\u001b[0m\u001b[0;34m:\u001b[0m\u001b[0;34m\u001b[0m\u001b[0;34m\u001b[0m\u001b[0m\n",
      "\u001b[0;32m/opt/conda/envs/classification/lib/python3.7/site-packages/openeo-0.4.5a1-py3.7.egg/openeo/rest/connection.py\u001b[0m in \u001b[0;36mdownload\u001b[0;34m(self, graph, outputfile)\u001b[0m\n\u001b[1;32m    744\u001b[0m         \"\"\"\n\u001b[1;32m    745\u001b[0m         \u001b[0mrequest\u001b[0m \u001b[0;34m=\u001b[0m \u001b[0mself\u001b[0m\u001b[0;34m.\u001b[0m\u001b[0m_build_request_with_process_graph\u001b[0m\u001b[0;34m(\u001b[0m\u001b[0mprocess_graph\u001b[0m\u001b[0;34m=\u001b[0m\u001b[0mgraph\u001b[0m\u001b[0;34m)\u001b[0m\u001b[0;34m\u001b[0m\u001b[0;34m\u001b[0m\u001b[0m\n\u001b[0;32m--> 746\u001b[0;31m         \u001b[0mr\u001b[0m \u001b[0;34m=\u001b[0m \u001b[0mself\u001b[0m\u001b[0;34m.\u001b[0m\u001b[0mpost\u001b[0m\u001b[0;34m(\u001b[0m\u001b[0mpath\u001b[0m\u001b[0;34m=\u001b[0m\u001b[0;34m\"/result\"\u001b[0m\u001b[0;34m,\u001b[0m \u001b[0mjson\u001b[0m\u001b[0;34m=\u001b[0m\u001b[0mrequest\u001b[0m\u001b[0;34m,\u001b[0m \u001b[0mstream\u001b[0m\u001b[0;34m=\u001b[0m\u001b[0;32mTrue\u001b[0m\u001b[0;34m,\u001b[0m \u001b[0mtimeout\u001b[0m\u001b[0;34m=\u001b[0m\u001b[0;36m1000\u001b[0m\u001b[0;34m)\u001b[0m\u001b[0;34m\u001b[0m\u001b[0;34m\u001b[0m\u001b[0m\n\u001b[0m\u001b[1;32m    747\u001b[0m         \u001b[0;32mif\u001b[0m \u001b[0moutputfile\u001b[0m \u001b[0;32mis\u001b[0m \u001b[0;32mnot\u001b[0m \u001b[0;32mNone\u001b[0m\u001b[0;34m:\u001b[0m\u001b[0;34m\u001b[0m\u001b[0;34m\u001b[0m\u001b[0m\n\u001b[1;32m    748\u001b[0m             \u001b[0;32mwith\u001b[0m \u001b[0mPath\u001b[0m\u001b[0;34m(\u001b[0m\u001b[0moutputfile\u001b[0m\u001b[0;34m)\u001b[0m\u001b[0;34m.\u001b[0m\u001b[0mopen\u001b[0m\u001b[0;34m(\u001b[0m\u001b[0mmode\u001b[0m\u001b[0;34m=\u001b[0m\u001b[0;34m\"wb\"\u001b[0m\u001b[0;34m)\u001b[0m \u001b[0;32mas\u001b[0m \u001b[0mf\u001b[0m\u001b[0;34m:\u001b[0m\u001b[0;34m\u001b[0m\u001b[0;34m\u001b[0m\u001b[0m\n",
      "\u001b[0;32m/opt/conda/envs/classification/lib/python3.7/site-packages/openeo-0.4.5a1-py3.7.egg/openeo/rest/connection.py\u001b[0m in \u001b[0;36mpost\u001b[0;34m(self, path, json, **kwargs)\u001b[0m\n\u001b[1;32m    159\u001b[0m         \u001b[0;34m:\u001b[0m\u001b[0;32mreturn\u001b[0m\u001b[0;34m:\u001b[0m \u001b[0mresponse\u001b[0m\u001b[0;34m:\u001b[0m \u001b[0mResponse\u001b[0m\u001b[0;34m\u001b[0m\u001b[0;34m\u001b[0m\u001b[0m\n\u001b[1;32m    160\u001b[0m         \"\"\"\n\u001b[0;32m--> 161\u001b[0;31m         \u001b[0;32mreturn\u001b[0m \u001b[0mself\u001b[0m\u001b[0;34m.\u001b[0m\u001b[0mrequest\u001b[0m\u001b[0;34m(\u001b[0m\u001b[0;34m\"post\"\u001b[0m\u001b[0;34m,\u001b[0m \u001b[0mpath\u001b[0m\u001b[0;34m=\u001b[0m\u001b[0mpath\u001b[0m\u001b[0;34m,\u001b[0m \u001b[0mjson\u001b[0m\u001b[0;34m=\u001b[0m\u001b[0mjson\u001b[0m\u001b[0;34m,\u001b[0m \u001b[0;34m**\u001b[0m\u001b[0mkwargs\u001b[0m\u001b[0;34m)\u001b[0m\u001b[0;34m\u001b[0m\u001b[0;34m\u001b[0m\u001b[0m\n\u001b[0m\u001b[1;32m    162\u001b[0m \u001b[0;34m\u001b[0m\u001b[0m\n\u001b[1;32m    163\u001b[0m     \u001b[0;32mdef\u001b[0m \u001b[0mdelete\u001b[0m\u001b[0;34m(\u001b[0m\u001b[0mself\u001b[0m\u001b[0;34m,\u001b[0m \u001b[0mpath\u001b[0m\u001b[0;34m,\u001b[0m \u001b[0;34m**\u001b[0m\u001b[0mkwargs\u001b[0m\u001b[0;34m)\u001b[0m \u001b[0;34m->\u001b[0m \u001b[0mResponse\u001b[0m\u001b[0;34m:\u001b[0m\u001b[0;34m\u001b[0m\u001b[0;34m\u001b[0m\u001b[0m\n",
      "\u001b[0;32m/opt/conda/envs/classification/lib/python3.7/site-packages/openeo-0.4.5a1-py3.7.egg/openeo/rest/connection.py\u001b[0m in \u001b[0;36mrequest\u001b[0;34m(self, method, path, headers, auth, check_error, expected_status, **kwargs)\u001b[0m\n\u001b[1;32m    107\u001b[0m         \u001b[0mexpected_status\u001b[0m \u001b[0;34m=\u001b[0m \u001b[0mensure_list\u001b[0m\u001b[0;34m(\u001b[0m\u001b[0mexpected_status\u001b[0m\u001b[0;34m)\u001b[0m \u001b[0;32mif\u001b[0m \u001b[0mexpected_status\u001b[0m \u001b[0;32melse\u001b[0m \u001b[0;34m[\u001b[0m\u001b[0;34m]\u001b[0m\u001b[0;34m\u001b[0m\u001b[0;34m\u001b[0m\u001b[0m\n\u001b[1;32m    108\u001b[0m         \u001b[0;32mif\u001b[0m \u001b[0mcheck_error\u001b[0m \u001b[0;32mand\u001b[0m \u001b[0mstatus\u001b[0m \u001b[0;34m>=\u001b[0m \u001b[0;36m400\u001b[0m \u001b[0;32mand\u001b[0m \u001b[0mstatus\u001b[0m \u001b[0;32mnot\u001b[0m \u001b[0;32min\u001b[0m \u001b[0mexpected_status\u001b[0m\u001b[0;34m:\u001b[0m\u001b[0;34m\u001b[0m\u001b[0;34m\u001b[0m\u001b[0m\n\u001b[0;32m--> 109\u001b[0;31m             \u001b[0mself\u001b[0m\u001b[0;34m.\u001b[0m\u001b[0m_raise_api_error\u001b[0m\u001b[0;34m(\u001b[0m\u001b[0mresp\u001b[0m\u001b[0;34m)\u001b[0m\u001b[0;34m\u001b[0m\u001b[0;34m\u001b[0m\u001b[0m\n\u001b[0m\u001b[1;32m    110\u001b[0m         \u001b[0;32mif\u001b[0m \u001b[0mexpected_status\u001b[0m \u001b[0;32mand\u001b[0m \u001b[0mstatus\u001b[0m \u001b[0;32mnot\u001b[0m \u001b[0;32min\u001b[0m \u001b[0mexpected_status\u001b[0m\u001b[0;34m:\u001b[0m\u001b[0;34m\u001b[0m\u001b[0;34m\u001b[0m\u001b[0m\n\u001b[1;32m    111\u001b[0m             raise OpenEoClientException(\"Got status code {s!r} for `{m} {p}` (expected {e!r})\".format(\n",
      "\u001b[0;32m/opt/conda/envs/classification/lib/python3.7/site-packages/openeo-0.4.5a1-py3.7.egg/openeo/rest/connection.py\u001b[0m in \u001b[0;36m_raise_api_error\u001b[0;34m(self, response)\u001b[0m\n\u001b[1;32m    138\u001b[0m             \u001b[0;32melse\u001b[0m\u001b[0;34m:\u001b[0m\u001b[0;34m\u001b[0m\u001b[0;34m\u001b[0m\u001b[0m\n\u001b[1;32m    139\u001b[0m                 \u001b[0mexception\u001b[0m \u001b[0;34m=\u001b[0m \u001b[0mOpenEoApiError\u001b[0m\u001b[0;34m(\u001b[0m\u001b[0mhttp_status_code\u001b[0m\u001b[0;34m=\u001b[0m\u001b[0mstatus_code\u001b[0m\u001b[0;34m,\u001b[0m \u001b[0mmessage\u001b[0m\u001b[0;34m=\u001b[0m\u001b[0mtext\u001b[0m\u001b[0;34m)\u001b[0m\u001b[0;34m\u001b[0m\u001b[0;34m\u001b[0m\u001b[0m\n\u001b[0;32m--> 140\u001b[0;31m         \u001b[0;32mraise\u001b[0m \u001b[0mexception\u001b[0m\u001b[0;34m\u001b[0m\u001b[0;34m\u001b[0m\u001b[0m\n\u001b[0m\u001b[1;32m    141\u001b[0m \u001b[0;34m\u001b[0m\u001b[0m\n\u001b[1;32m    142\u001b[0m     \u001b[0;32mdef\u001b[0m \u001b[0mget\u001b[0m\u001b[0;34m(\u001b[0m\u001b[0mself\u001b[0m\u001b[0;34m,\u001b[0m \u001b[0mpath\u001b[0m\u001b[0;34m,\u001b[0m \u001b[0mstream\u001b[0m\u001b[0;34m=\u001b[0m\u001b[0;32mFalse\u001b[0m\u001b[0;34m,\u001b[0m \u001b[0mauth\u001b[0m\u001b[0;34m:\u001b[0m \u001b[0mAuthBase\u001b[0m \u001b[0;34m=\u001b[0m \u001b[0;32mNone\u001b[0m\u001b[0;34m,\u001b[0m \u001b[0;34m**\u001b[0m\u001b[0mkwargs\u001b[0m\u001b[0;34m)\u001b[0m \u001b[0;34m->\u001b[0m \u001b[0mResponse\u001b[0m\u001b[0;34m:\u001b[0m\u001b[0;34m\u001b[0m\u001b[0;34m\u001b[0m\u001b[0m\n",
      "\u001b[0;31mOpenEoApiError\u001b[0m: [500] unknown: "
     ]
    }
   ],
   "source": [
    "# connect to eurac backend\n",
    "host = \"https://openeo.eurac.edu/\"\n",
    "import openeo\n",
    "print(openeo.__version__)\n",
    "# currently you can login without credentials, will change soon\n",
    "session = openeo.connect(host)  \n",
    "# then use this with a valid username and password \n",
    "# session = openeo.connect(host).authenticate_basic(username=\"\", password=\"\") \n",
    "\n",
    "# get info about climate datasets\n",
    "# print(session.list_collections()) # grep CLIM here to only see climate collections\n",
    "print(session.describe_collection(\"ST_GRIDDED_CLIMATE_SERIES_PRECIPITATION\"))\n",
    "print(session.describe_collection(\"ST_GRIDDED_CLIMATE_SERIES_TEMPERATURE\"))\n",
    "print(session.describe_collection(\"ST_GRIDDED_CLIMATOLOGIES_PRECIPITATION\"))\n",
    "print(session.describe_collection(\"ST_GRIDDED_CLIMATOLOGIES_TEMPERATURE\"))\n",
    "\n",
    "# load data and subset\n",
    "data = session.load_collection(\n",
    "  \"ST_GRIDDED_CLIMATE_SERIES_PRECIPITATION\",\n",
    "  spatial_extent={\"west\": 11.00, \n",
    "                  \"south\": 46.00, \n",
    "                  \"east\": 11.10, \n",
    "                  \"north\": 46.10},\n",
    "  temporal_extent=[\"2018-01-01\", \"2018-02-01\"]\n",
    ")\n",
    "\n",
    "# download\n",
    "print(session.list_file_formats()) # see which formats are there.\n",
    "data.download(\"clim.nc\", format=\"NETCDF\")\n",
    "\n",
    "# more information on python client and installation\n",
    "# https://openeo.org/documentation/1.0/python/"
   ]
  },
  {
   "cell_type": "code",
   "execution_count": 3,
   "metadata": {},
   "outputs": [
    {
     "name": "stdout",
     "output_type": "stream",
     "text": [
      "{\n",
      "  \"loaddiskdata1\": {\n",
      "    \"process_id\": \"load_disk_data\",\n",
      "    \"arguments\": {\n",
      "      \"format\": \"GTiff\",\n",
      "      \"glob_pattern\": \"/data/users/Public/driesj/openeo/eurac/S1A_IW_GRDH_*_015_VH_VV_eurac.tif\",\n",
      "      \"options\": {\n",
      "        \"date_regex\": \".*_(\\\\d{4})(\\\\d{2})(\\\\d{2})T.*\"\n",
      "      }\n",
      "    },\n",
      "    \"result\": true\n",
      "  }\n",
      "}\n"
     ]
    },
    {
     "name": "stderr",
     "output_type": "stream",
     "text": [
      "/opt/conda/envs/classification/lib/python3.7/site-packages/openeo-0.4.5a1-py3.7.egg/openeo/metadata.py:177: UserWarning: No cube:dimensions metadata\n"
     ]
    }
   ],
   "source": [
    "# upload s1a\n",
    "backscatter = session.load_disk_collection('GTiff', str('/data/users/Public/driesj/openeo/eurac/S1A_IW_GRDH_*_015_VH_VV_eurac.tif'), options={'date_regex': '.*_(\\d{4})(\\d{2})(\\d{2})T.*'})\n",
    "import json\n",
    "print(json.dumps(backscatter.graph,indent=2))\n",
    "#we have to provide our own collection metadata, as it is loaded ad hoc by the backend\n",
    "backscatter.metadata = CollectionMetadata(metadata={},dimensions=[TemporalDimension(name='t',extent=(\"20151106\",\"20151212\"))]) #, BandDimension(name='bands', )])\n",
    "\n",
    "# how to provide metadata for the band dimension so that its accepted by filter bands?\n",
    "#backscatter.metatata = CollectionMetadata(metadata={},dimensions=[BandDimension(name='bands',bands=['VH','VV'])])\n",
    "#print(backscatter.metadata)\n",
    "#backscatter.download(\"eurac_backscatter.tiff\",format=\"GTiff\")\n"
   ]
  },
  {
   "cell_type": "code",
   "execution_count": 7,
   "metadata": {},
   "outputs": [
    {
     "name": "stdout",
     "output_type": "stream",
     "text": [
      "{\n",
      "  \"loaddiskdata1\": {\n",
      "    \"process_id\": \"load_disk_data\",\n",
      "    \"arguments\": {\n",
      "      \"format\": \"GTiff\",\n",
      "      \"glob_pattern\": \"/data/users/Public/driesj/openeo/eurac/S1A_IW_GRDH_*_015_VH_VV_eurac.tif\",\n",
      "      \"options\": {\n",
      "        \"date_regex\": \".*_(\\\\d{4})(\\\\d{2})(\\\\d{2})T.*\"\n",
      "      }\n",
      "    }\n",
      "  },\n",
      "  \"reducedimension1\": {\n",
      "    \"process_id\": \"reduce_dimension\",\n",
      "    \"arguments\": {\n",
      "      \"data\": {\n",
      "        \"from_node\": \"loaddiskdata1\"\n",
      "      },\n",
      "      \"dimension\": \"t\",\n",
      "      \"reducer\": {\n",
      "        \"process_graph\": {\n",
      "          \"max1\": {\n",
      "            \"process_id\": \"max\",\n",
      "            \"arguments\": {\n",
      "              \"data\": {\n",
      "                \"from_parameter\": \"data\"\n",
      "              }\n",
      "            },\n",
      "            \"result\": true\n",
      "          }\n",
      "        }\n",
      "      }\n",
      "    }\n",
      "  },\n",
      "  \"mergecubes1\": {\n",
      "    \"process_id\": \"merge_cubes\",\n",
      "    \"arguments\": {\n",
      "      \"cube1\": {\n",
      "        \"from_node\": \"loaddiskdata1\"\n",
      "      },\n",
      "      \"cube2\": {\n",
      "        \"from_node\": \"reducedimension1\"\n",
      "      },\n",
      "      \"overlap_resolver\": {\n",
      "        \"process_graph\": {\n",
      "          \"subtract1\": {\n",
      "            \"process_id\": \"subtract\",\n",
      "            \"arguments\": {\n",
      "              \"x\": {\n",
      "                \"from_parameter\": \"x\"\n",
      "              },\n",
      "              \"y\": {\n",
      "                \"from_parameter\": \"y\"\n",
      "              }\n",
      "            },\n",
      "            \"result\": true\n",
      "          }\n",
      "        }\n",
      "      }\n",
      "    },\n",
      "    \"result\": true\n",
      "  }\n",
      "}\n"
     ]
    }
   ],
   "source": [
    "# module 1 ----\n",
    "# FILTER BANDS DOESN'T WORK ON DISK CONNECTION SO FAR VIA BANDNAMES VV VH\n",
    "# normalize vh\n",
    "#vh = backscatter.filter_bands([\"VH\"]) # this doesn't work... band dim is missing\n",
    "#tst = backscatter.filter_temporal(\"2015-11-06\",\"2015-11-07\") # this works... time dim has been added correctly\n",
    "#vh_ref = vh.max_time() # more generically reduce, callback max\n",
    "#vh_norm = vh.merge(vh_ref) # mergecubes(vh, vh_ref, overlap_resolver = \"-\") # 1:n case\n",
    "#session.reduce\n",
    "#tst = backscatter.reduce_dimension(\"max\", dimension=\"t\")\n",
    "\n",
    "# normalize vv\n",
    "\n",
    "# normalize both bands at once\n",
    "backscatter_ref = backscatter.max_time()\n",
    "backscatter_norm = backscatter.merge(backscatter_ref,overlap_resolver=\"subtract\")\n",
    "#print(json.dumps(backscatter_norm.graph,indent=2))\n",
    "#backscatter_norm.download(\"norm.tif\", format=\"GTiff\") # gtiff cannot depict 3d data cube -> bands are there time is not there\n",
    "#backscatter_norm.download(\"norm.ncdf\", format=\"NETCDF\") # produces error\n",
    "#job = backscatter.send_job()\n",
    "#res = job.start_and_wait().download_results()\n",
    "\n",
    "# check if time dimension was there (if the values change compared to norm.tif there was one)\n",
    "backscatter_norm_red = backscatter_norm.max_time()\n",
    "#reducer=\n",
    "#backscatter_norm_red = backscatter_norm.reduce_dimension(dimension=\"temporal\", reducer=reducer)\n",
    "#reducer = openeo.internal.graph_building.PGNode(\"subtract\", arguments={\"x\": {\"from_node\": vh}, \"y\": {\"from_node\": vv}})\n",
    "#datacube = mean.reduce_dimension(dimension=\"bands\", reducer=reducer)\n",
    "\n",
    "backscatter_norm_red.download(\"norm2.tif\", format=\"GTiff\")\n",
    "print(json.dumps(backscatter_norm_red.graph,indent=2))\n"
   ]
  },
  {
   "cell_type": "code",
   "execution_count": 56,
   "metadata": {},
   "outputs": [
    {
     "name": "stdout",
     "output_type": "stream",
     "text": [
      "['array_apply', 'arccos', 'arcosh', 'power', 'last', 'subtract', 'not', 'cosh', 'artanh', 'is_valid', 'first', 'median', 'eq', 'absolute', 'arctan2', 'array_labels', 'divide', 'is_nan', 'all', 'round', 'min', 'any', 'gte', 'cos', 'between', 'count', 'xor', 'extrema', 'and', 'variance', 'or', 'sum', 'sin', 'sinh', 'product', 'exp', 'neq', 'sd', 'sort', 'normalized_difference', 'int', 'order', 'array_find', 'if', 'sqrt', 'add', 'e', 'arsinh', 'mean', 'array_filter', 'mod', 'multiply', 'lte', 'pi', 'ceil', 'tan', 'tanh', 'arctan', 'floor', 'array_element', 'clip', 'sgn', 'quantiles', 'arcsin', 'rearrange', 'array_contains', 'is_nodata', 'gt', 'ln', 'log', 'max', 'lt', 'load_collection', 'load_disk_data', 'apply_neighborhood', 'apply_dimension', 'save_result', 'apply', 'reduce_dimension', 'add_dimension', 'aggregate_temporal', 'aggregate_spatial', 'mask', 'mask_polygon', 'filter_temporal', 'filter_bbox', 'filter_bands', 'apply_kernel', 'ndvi', 'resample_spatial', 'resample_cube_spatial', 'merge_cubes', 'run_udf', 'linear_scale_range', 'histogram', 'read_vector', 'raster_to_vector', 'sleep']\n"
     ]
    }
   ],
   "source": [
    "#print(session.list_processes())\n",
    "print([process[\"id\"] for process in session.list_processes()])\n"
   ]
  },
  {
   "cell_type": "code",
   "execution_count": null,
   "metadata": {},
   "outputs": [],
   "source": [
    "# upload lia \n",
    "lia = session.load_disk_collection('GTiff', str('/data/users/Public/driesj/openeo/eurac/S1A_IW_GRDH_20141205T171502_015_LIA_eurac.tif'), options={'date_regex': '.*_(\\d{4})(\\d{2})(\\d{2})T.*'})\n",
    "#we have to provide our own collection metadata, as it is loaded ad hoc by the backend\n",
    "lia.metadata = CollectionMetadata(metadata={},dimensions=[TemporalDimension(name='t',extent=(\"20151106\",\"20151212\"))])\n",
    "#lia.download(\"eurac_lia.tiff\",format=\"GTiff\")\n"
   ]
  },
  {
   "cell_type": "code",
   "execution_count": null,
   "metadata": {},
   "outputs": [],
   "source": []
  },
  {
   "cell_type": "code",
   "execution_count": null,
   "metadata": {},
   "outputs": [],
   "source": [
    "# upload modis snow\n",
    "modis = session.load_disk_collection('GTiff', str('/data/users/Public/driesj/openeo/eurac/ERUAC_MODIS_SNOW_*_120000.tif'), options={'date_regex': '.*_(\\d{4})(\\d{2})(\\d{2})_.*'})\n",
    "#we have to provide our own collection metadata, as it is loaded ad hoc by the backend\n",
    "modis.metadata = CollectionMetadata(metadata={},dimensions=[TemporalDimension(name='t',extent=(\"20151106\",\"20151212\"))])\n",
    "#modis.download(\"eurac_snow.tiff\",format=\"GTiff\")"
   ]
  },
  {
   "cell_type": "code",
   "execution_count": null,
   "metadata": {},
   "outputs": [],
   "source": [
    "   "
   ]
  }
 ],
 "metadata": {
  "kernelspec": {
   "display_name": "Python [conda env:classification] *",
   "language": "python",
   "name": "conda-env-classification-py"
  },
  "language_info": {
   "codemirror_mode": {
    "name": "ipython",
    "version": 3
   },
   "file_extension": ".py",
   "mimetype": "text/x-python",
   "name": "python",
   "nbconvert_exporter": "python",
   "pygments_lexer": "ipython3",
   "version": "3.7.3"
  }
 },
 "nbformat": 4,
 "nbformat_minor": 2
}
